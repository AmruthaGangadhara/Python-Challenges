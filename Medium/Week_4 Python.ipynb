{
 "cells": [
  {
   "cell_type": "markdown",
   "id": "05c8d328",
   "metadata": {},
   "source": [
    "### Problem 1: Write two functions:\n",
    "\n",
    "#### to_int() : A function to convert a string to an integer.\n",
    "\n"
   ]
  },
  {
   "cell_type": "code",
   "execution_count": 3,
   "id": "69becd57",
   "metadata": {},
   "outputs": [],
   "source": [
    "def to_int(string):\n",
    "    return int(string)"
   ]
  },
  {
   "cell_type": "code",
   "execution_count": 4,
   "id": "4b38c552",
   "metadata": {},
   "outputs": [
    {
     "data": {
      "text/plain": [
       "10"
      ]
     },
     "execution_count": 4,
     "metadata": {},
     "output_type": "execute_result"
    }
   ],
   "source": [
    "to_int('10')"
   ]
  },
  {
   "cell_type": "markdown",
   "id": "9a0ed01f",
   "metadata": {},
   "source": [
    "##### to_str() : A function to convert an integer to a string."
   ]
  },
  {
   "cell_type": "code",
   "execution_count": 5,
   "id": "968e72e6",
   "metadata": {},
   "outputs": [],
   "source": [
    "def to_str(integer):\n",
    "    return str(integer)"
   ]
  },
  {
   "cell_type": "code",
   "execution_count": 6,
   "id": "70ef396e",
   "metadata": {},
   "outputs": [
    {
     "data": {
      "text/plain": [
       "'100'"
      ]
     },
     "execution_count": 6,
     "metadata": {},
     "output_type": "execute_result"
    }
   ],
   "source": [
    "to_str(100)"
   ]
  },
  {
   "cell_type": "markdown",
   "id": "2b69c6eb",
   "metadata": {},
   "source": [
    "### Problem 2: Create a function that takes a number as its only argument and returns True if it’s less than or equal to zero, otherwise return False."
   ]
  },
  {
   "cell_type": "code",
   "execution_count": 8,
   "id": "daaaac95",
   "metadata": {},
   "outputs": [],
   "source": [
    "def below_zero(number):\n",
    "    if type(number)==int or type(number)==float:\n",
    "        if number<=0:\n",
    "            return True\n",
    "        else:\n",
    "            return False\n",
    "    else:\n",
    "        return 'Please input a number'"
   ]
  },
  {
   "cell_type": "code",
   "execution_count": 9,
   "id": "5a2f42a8",
   "metadata": {},
   "outputs": [
    {
     "data": {
      "text/plain": [
       "'Please input a number'"
      ]
     },
     "execution_count": 9,
     "metadata": {},
     "output_type": "execute_result"
    }
   ],
   "source": [
    "below_zero('data')"
   ]
  },
  {
   "cell_type": "code",
   "execution_count": 10,
   "id": "a984bd45",
   "metadata": {},
   "outputs": [
    {
     "data": {
      "text/plain": [
       "False"
      ]
     },
     "execution_count": 10,
     "metadata": {},
     "output_type": "execute_result"
    }
   ],
   "source": [
    "below_zero(6)"
   ]
  },
  {
   "cell_type": "code",
   "execution_count": 11,
   "id": "10c846e5",
   "metadata": {},
   "outputs": [
    {
     "data": {
      "text/plain": [
       "True"
      ]
     },
     "execution_count": 11,
     "metadata": {},
     "output_type": "execute_result"
    }
   ],
   "source": [
    "below_zero(0)"
   ]
  },
  {
   "cell_type": "code",
   "execution_count": 12,
   "id": "0ccf0f26",
   "metadata": {},
   "outputs": [
    {
     "data": {
      "text/plain": [
       "True"
      ]
     },
     "execution_count": 12,
     "metadata": {},
     "output_type": "execute_result"
    }
   ],
   "source": [
    "below_zero(-1)"
   ]
  },
  {
   "cell_type": "markdown",
   "id": "26f88bde",
   "metadata": {},
   "source": [
    "### Create a function that takes two number strings and returns their sum as a string."
   ]
  },
  {
   "cell_type": "code",
   "execution_count": 24,
   "id": "6eb8dd4f",
   "metadata": {},
   "outputs": [],
   "source": [
    "def sum_string(n1,n2):\n",
    "    try:\n",
    "        s1=int(n1)\n",
    "        s2=int(n2)\n",
    "    except ValueError:\n",
    "        return 'Input two number strings'\n",
    "    else:\n",
    "        return n1+n2\n",
    "  "
   ]
  },
  {
   "cell_type": "code",
   "execution_count": 28,
   "id": "30e035e0",
   "metadata": {},
   "outputs": [
    {
     "data": {
      "text/plain": [
       "'1103'"
      ]
     },
     "execution_count": 28,
     "metadata": {},
     "output_type": "execute_result"
    }
   ],
   "source": [
    "sum_string('1','103')"
   ]
  },
  {
   "cell_type": "code",
   "execution_count": 26,
   "id": "e5953cd0",
   "metadata": {},
   "outputs": [
    {
     "data": {
      "text/plain": [
       "'Input two number strings'"
      ]
     },
     "execution_count": 26,
     "metadata": {},
     "output_type": "execute_result"
    }
   ],
   "source": [
    "sum_string('one','two')"
   ]
  },
  {
   "cell_type": "code",
   "execution_count": null,
   "id": "bdb6beb7",
   "metadata": {},
   "outputs": [],
   "source": []
  }
 ],
 "metadata": {
  "kernelspec": {
   "display_name": "Python 3 (ipykernel)",
   "language": "python",
   "name": "python3"
  },
  "language_info": {
   "codemirror_mode": {
    "name": "ipython",
    "version": 3
   },
   "file_extension": ".py",
   "mimetype": "text/x-python",
   "name": "python",
   "nbconvert_exporter": "python",
   "pygments_lexer": "ipython3",
   "version": "3.9.12"
  }
 },
 "nbformat": 4,
 "nbformat_minor": 5
}
